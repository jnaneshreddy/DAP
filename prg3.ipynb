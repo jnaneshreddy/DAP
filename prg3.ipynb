{
 "cells": [
  {
   "cell_type": "code",
   "execution_count": 3,
   "id": "b128a4f7",
   "metadata": {},
   "outputs": [
    {
     "name": "stdout",
     "output_type": "stream",
     "text": [
      "x=5 y=5\n",
      "x=5 y=6\n",
      "10\n"
     ]
    }
   ],
   "source": [
    "class A:\n",
    "    _x = 5\n",
    "class B(A):\n",
    "    def __init__(self,y):\n",
    "        self._y = y\n",
    "    def __add__(self,other):\n",
    "        return self._y + other._x\n",
    "    def display(self):\n",
    "        print(f\"x={self._x} y={self._y}\")\n",
    "obj1=B(5)\n",
    "obj2=B(6)\n",
    "\n",
    "obj1.display()\n",
    "obj2.display()\n",
    "\n",
    "print(obj1+obj2)"
   ]
  },
  {
   "cell_type": "code",
   "execution_count": null,
   "id": "beb115b4",
   "metadata": {},
   "outputs": [],
   "source": []
  }
 ],
 "metadata": {
  "kernelspec": {
   "display_name": "Python 3",
   "language": "python",
   "name": "python3"
  },
  "language_info": {
   "codemirror_mode": {
    "name": "ipython",
    "version": 3
   },
   "file_extension": ".py",
   "mimetype": "text/x-python",
   "name": "python",
   "nbconvert_exporter": "python",
   "pygments_lexer": "ipython3",
   "version": "3.10.0"
  }
 },
 "nbformat": 4,
 "nbformat_minor": 5
}
