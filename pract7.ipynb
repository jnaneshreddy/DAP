{
 "cells": [
  {
   "cell_type": "code",
   "execution_count": null,
   "id": "a77c3e81",
   "metadata": {},
   "outputs": [],
   "source": [
    "import numpy as np\n",
    "import matplotlib.pyplot as plt"
   ]
  },
  {
   "cell_type": "code",
   "execution_count": 3,
   "id": "a28d6530",
   "metadata": {},
   "outputs": [
    {
     "name": "stdout",
     "output_type": "stream",
     "text": [
      "[[ 1 14 69 84 89 35 81]\n",
      " [43  5 71 34 91 90 21]\n",
      " [76 92 49 18 37 49 95]\n",
      " [47 54 88 46 38 39 67]\n",
      " [79 36 59 87 63 31 66]]\n",
      "35\n",
      "int32\n",
      "[[ 1 43 76 47 79]\n",
      " [14  5 92 54 36]\n",
      " [69 71 49 88 59]\n",
      " [84 34 18 46 87]\n",
      " [89 91 37 38 63]\n",
      " [35 90 49 39 31]\n",
      " [81 21 95 67 66]]\n",
      "<memory at 0x000002505EF9D7D0>\n",
      "4\n",
      "(5, 7)\n",
      "2\n"
     ]
    }
   ],
   "source": [
    "m=5\n",
    "n=7\n",
    "arr = np.random.randint(100,size = (m,n))\n",
    "print(arr)\n",
    "print(arr.size)\n",
    "print(arr.dtype)\n",
    "print(arr.T)\n",
    "print(arr.data)\n",
    "print(arr.itemsize)\n",
    "print(arr.shape)\n",
    "print(arr.ndim)"
   ]
  },
  {
   "cell_type": "code",
   "execution_count": 4,
   "id": "361f79ce",
   "metadata": {},
   "outputs": [
    {
     "data": {
      "image/png": "[encoded data removed]",
      "text/plain": [
       "<Figure size 640x480 with 1 Axes>"
      ]
     },
     "metadata": {},
     "output_type": "display_data"
    }
   ],
   "source": [
    "plt.imshow(arr)\n",
    "plt.show()"
   ]
  },
  {
   "cell_type": "code",
   "execution_count": null,
   "id": "2e110edb",
   "metadata": {},
   "outputs": [],
   "source": []
  }
 ],
 "metadata": {
  "kernelspec": {
   "display_name": "Python 3",
   "language": "python",
   "name": "python3"
  },
  "language_info": {
   "codemirror_mode": {
    "name": "ipython",
    "version": 3
   },
   "file_extension": ".py",
   "mimetype": "text/x-python",
   "name": "python",
   "nbconvert_exporter": "python",
   "pygments_lexer": "ipython3",
   "version": "3.13.3"
  }
 },
 "nbformat": 4,
 "nbformat_minor": 5
}
